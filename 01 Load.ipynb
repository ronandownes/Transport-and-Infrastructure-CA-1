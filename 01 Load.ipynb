{
 "cells": [
  {
   "cell_type": "markdown",
   "id": "0291b4be",
   "metadata": {},
   "source": [
    "# Dublin Bike CA 1\n",
    "\n",
    "## 1 Data Loading Notebook\n",
    "\n",
    "\n",
    "Ronan Downes  | November 2022 \n",
    "***\n",
    "\n",
    "\n",
    "This notebook downloads the publicly available datasets of the quarterly  Dublin Bike occupancy csv files and a station GPS file  directly from the  [Smart Dublin](https://data.smartdublin.ie/dataset/dublinbikes-api) website. The hourly Phoinex Park (weather station 175) weather data provided by the Irish Meteorological Society [Met Éireann](https://www.met.ie/climate/available-data/historical-data) website is also downloaded. All datasets are downloaded to a \"data\" folder which the code makes directly inside the folder containing this jupyter notebook.\n",
    "This avoids errors in filenames and avoids any need for pathname manipulations based on operating systems.\n",
    "***"
   ]
  },
  {
   "cell_type": "code",
   "execution_count": 1,
   "id": "840757e8",
   "metadata": {
    "scrolled": false
   },
   "outputs": [],
   "source": [
    "# from IPython.display import Image\n",
    "# Image(filename =r'bike_sharing.gif', width = 600, height = 300)"
   ]
  },
  {
   "cell_type": "code",
   "execution_count": 3,
   "id": "4eb61e13",
   "metadata": {},
   "outputs": [],
   "source": [
    "#Setup required  libraries and data directory \n",
    "import pandas as pd\n",
    "import urllib\n",
    "import os\n",
    "## Downloading data directly  from URL avoids cross-platform and end-user errors \n",
    "if not os.path.exists(\"data\"):\n",
    "    os.makedirs(\"data\")"
   ]
  },
  {
   "cell_type": "markdown",
   "id": "204fd1ea",
   "metadata": {},
   "source": [
    "### 1.1 Load Bike Data\n",
    "\n",
    "Retrieve Dublin Bikes data  from  [Smart Dublin](https://data.smartdublin.ie/dataset/dublinbikes-api). This study is restricted to the post COVID-19 lockdown era but a fork of the project can easily be adapted to any range of available data by adding and removing comment lines in the dataframe list of tuples."
   ]
  },
  {
   "cell_type": "code",
   "execution_count": null,
   "id": "4ae0e05b",
   "metadata": {},
   "outputs": [],
   "source": [
    "\n",
    "### Defines a list of tuples with ordered pairs of filenames and retrieval urls for urllib requests later.\n",
    "### The os library checks if the quarterly csv file is already in place and if not the urllib library retrieves it\n",
    "### Include and Omit Date range according to research question.\n",
    "    \n",
    "dataframes = [\n",
    "#      (\n",
    "#         \"data/2018_Q3.csv\",\n",
    "#         \" https://data.smartdublin.ie/dataset/33ec9fe2-4957-4e9a-ab55-c5e917c7a9ab/resource/9496fac5-e4d7-4ae9-a49a-217c7c4e83d9/download/dublinbikes_20180701_20181001.csv\",\n",
    "#     ),\n",
    "#      (\n",
    "#         \"data/2018_Q4.csv\",\n",
    "#         \"https://data.smartdublin.ie/dataset/33ec9fe2-4957-4e9a-ab55-c5e917c7a9ab/resource/67ea095f-67ad-47f5-b8f7-044743043848/download/dublinbikes_20181001_20190101.csv\",\n",
    "#     ),\n",
    "#     (\n",
    "#         \"data/2019_Q1.csv\",\n",
    "#         \"https://data.smartdublin.ie/dataset/33ec9fe2-4957-4e9a-ab55-c5e917c7a9ab/resource/538165d7-535e-4e1d-909a-1c1bfae901c5/download/dublinbikes_20190101_20190401.csv\",\n",
    "#     ),\n",
    "#     (\n",
    "#         \"data/2019_Q2.csv\",\n",
    "#         \"https://data.smartdublin.ie/dataset/33ec9fe2-4957-4e9a-ab55-c5e917c7a9ab/resource/76fdda3d-d8be-441b-92dd-0ee36d9c5316/download/dublinbikes_20190401_20190701.csv\",\n",
    "#     ),\n",
    "#     (\n",
    "#         \"data/2019_Q3.csv\",\n",
    "#         \"https://data.smartdublin.ie/dataset/33ec9fe2-4957-4e9a-ab55-c5e917c7a9ab/resource/305d39ac-b6a0-4216-a535-0ae2ddf59819/download/dublinbikes_20190701_20191001.csv\",\n",
    "#     ),\n",
    "#     (\n",
    "#         \"data/2019_Q4.csv\",\n",
    "#         \"https://data.smartdublin.ie/dataset/33ec9fe2-4957-4e9a-ab55-c5e917c7a9ab/resource/5d23332e-4f49-4c41-b6a0-bffb77b33d64/download/dublinbikes_20191001_20200101.csv\",\n",
    "#     ),\n",
    "#             (\n",
    "#         \"data/2020_Q1.csv\",\n",
    "#         \"https://data.smartdublin.ie/dataset/33ec9fe2-4957-4e9a-ab55-c5e917c7a9ab/resource/aab12e7d-547f-463a-86b1-e22002884587/download/dublinbikes_20200101_20200401.csv\",\n",
    "#     ),\n",
    "#                 (\n",
    "#         \"data/2020_Q2.csv\",\n",
    "#         \"https://data.smartdublin.ie/dataset/33ec9fe2-4957-4e9a-ab55-c5e917c7a9ab/resource/8ddaeac6-4caf-4289-9835-cf588d0b69e5/download/dublinbikes_20200401_20200701.csv\",\n",
    "#     ),\n",
    "#                     (\n",
    "#         \"data/2020_Q3.csv\",\n",
    "#         \"https://data.smartdublin.ie/dataset/33ec9fe2-4957-4e9a-ab55-c5e917c7a9ab/resource/99a35442-6878-4c2d-8dff-ec43e91d21d7/download/dublinbikes_20200701_20201001.csv\",\n",
    "#     ),\n",
    "#                         (\n",
    "#         \"data/2020_Q4.csv\",\n",
    "#         \"https://data.smartdublin.ie/dataset/33ec9fe2-4957-4e9a-ab55-c5e917c7a9ab/resource/5328239f-bcc6-483d-9c17-87166efc3a1a/download/dublinbikes_20201001_20210101.csv\",\n",
    "#     ),\n",
    "    \n",
    "# Scope of this research is post COVID lockdown and restrictions\n",
    "                        (\n",
    "        \"data/2021_Q1.csv\",\n",
    "        \"https://data.smartdublin.ie/dataset/33ec9fe2-4957-4e9a-ab55-c5e917c7a9ab/resource/7987ddc8-674a-4368-b344-560804771b98/download/dublinbikes_20210101_20210401.csv\",\n",
    "    ),\n",
    "                        (\n",
    "        \"data/2021_Q2.csv\",\n",
    "        \"https://data.smartdublin.ie/dataset/33ec9fe2-4957-4e9a-ab55-c5e917c7a9ab/resource/1c18f219-3885-403e-aa55-4d4c78ee0204/download/dublinbikes_20210401_20210701.csv\",\n",
    "    ),\n",
    "                            (\n",
    "        \"data/2021_Q3.csv\",\n",
    "        \"https://data.smartdublin.ie/dataset/33ec9fe2-4957-4e9a-ab55-c5e917c7a9ab/resource/91ccfcb7-0c5b-41e4-be1b-e5d35c609638/download/dublinbikes_20210701_20211001.csv\",\n",
    "    ),\n",
    "                            (\n",
    "        \"data/2021_Q4.csv\",\n",
    "        \"https://data.smartdublin.ie/dataset/33ec9fe2-4957-4e9a-ab55-c5e917c7a9ab/resource/5bc73751-4280-4423-b64d-18f4cc17986d/download/dublinbikes_20211001_20220101.csv\",\n",
    "    ),\n",
    "]\n",
    "\n",
    "# \n",
    "for item in dataframes:\n",
    "    if os.path.exists(item[0]):\n",
    "        continue\n",
    "    print(f\"Downloading {item[0]} from {item[1]}\")\n",
    "    urllib.request.urlretrieve(item[1], item[0])\n",
    "    \n",
    "df = \"data/01_Loaded_Bikes.csv\"\n",
    "df = pd.concat([pd.read_csv(item[0]) for item in dataframes])   \n",
    "\n",
    "if not os.path.exists(\"data/01_Loaded_Bikes.csv\"):\n",
    "    df.to_csv(\"data/01_Loaded_Bikes.csv\", index=False)\n"
   ]
  },
  {
   "cell_type": "code",
   "execution_count": null,
   "id": "9b577cc4",
   "metadata": {},
   "outputs": [],
   "source": [
    "df.tail(3) # Just to check data decoded correctly. Analysis starts in next  notebook"
   ]
  },
  {
   "cell_type": "markdown",
   "id": "ae35b2d6",
   "metadata": {},
   "source": [
    "### 1.2 Load Weather Data \n",
    "\n",
    "Retrieve historical weather data for Phoinex Park Weather Station (175) on an hourly basis. Filtering to this choice on [Met Éireann's](https://www.met.ie/climate/available-data/historical-data) Irish Meteorological Society website is easy and gives the URL link used below. Note: hly175.csv tells us the data is recorded hourly from station 175.  The leading 15 rows give the data dictionary for the data and are skipped during the import process."
   ]
  },
  {
   "cell_type": "code",
   "execution_count": 6,
   "id": "d00c89c2",
   "metadata": {},
   "outputs": [
    {
     "name": "stderr",
     "output_type": "stream",
     "text": [
      "C:\\Users\\ronan\\AppData\\Local\\Temp\\ipykernel_17348\\468972826.py:12: DtypeWarning: Columns (2,4,6,7,8,9,10) have mixed types. Specify dtype option on import or set low_memory=False.\n",
      "  dfw = pd.read_csv(\"data/hly175.csv\", skiprows=15)\n"
     ]
    }
   ],
   "source": [
    "#Conditionally calls  retrieval functions if CSVs are not in place in the\"data\" directory\n",
    "           \n",
    "dfw = \"data/hly175.csv\"    \n",
    "        \n",
    "def retrieve_weather():\n",
    "    weather_url = \"http://cli.fusio.net/cli/climate_data/webdata/hly175.csv\"\n",
    "    urllib.request.urlretrieve(weather_url, dfw)\n",
    "\n",
    "if not os.path.exists(dfw):\n",
    "    retrieve_weather()\n",
    "    \n",
    "dfw = pd.read_csv(\"data/hly175.csv\", skiprows=15)   \n",
    "if not os.path.exists(\"data/01_Loaded_Weather.csv\"):\n",
    "     dfw.to_csv(\"data/01_Loaded_Weather.csv\", index=False)\n",
    "    "
   ]
  },
  {
   "cell_type": "code",
   "execution_count": null,
   "id": "54cca17c",
   "metadata": {},
   "outputs": [],
   "source": [
    "dfw.head() # Just to check data decoded correctly. Analysis starts in next  notebook"
   ]
  },
  {
   "cell_type": "markdown",
   "id": "f99b63da",
   "metadata": {},
   "source": [
    "### 1.2 Load  Data Modes of Travel in DCC"
   ]
  },
  {
   "cell_type": "code",
   "execution_count": null,
   "id": "18c549eb",
   "metadata": {},
   "outputs": [],
   "source": [
    "\n",
    "### When Pandas reads a CSV, by default it assumes that the encoding is UTF-8 but according to Notepad++ here it is ANSI. \n",
    "mode_2006_url = \"https://opendata.dublincity.ie/TrafficOpenData/Transport/ModeofTravel2006.csv\"\n",
    "dft = pd.read_csv(mode_2006_url, encoding=\"ansi\")\n",
    "dft.to_csv(\"data/01_Loaded_Travel_2006.csv\", index=False)\n",
    "dft # Checks for correct decoding. Only 4 rows so no need for .head() .tail() or .sample() Analysis starts in next  notebook"
   ]
  },
  {
   "cell_type": "code",
   "execution_count": null,
   "id": "95d6c7f9",
   "metadata": {},
   "outputs": [],
   "source": [
    "### When Pandas reads a CSV, by default it assumes that the encoding is UTF-8 b\n",
    "#According to Notepad++ this file is encoded as ANSI. \n",
    "mode_2011_url = \"https://opendata.dublincity.ie/TrafficOpenData/Transport/ModeofTravel2011.csv\"\n",
    "dfT = pd.read_csv(mode_2011_url, encoding=\"ansi\")\n",
    "dfT # Just to check data decoded correctly. Analysis starts in next  notebook\n",
    "dfT.to_csv(\"data/01_Loaded_Travel_2011.csv\", index=False)\n",
    "dfT # Checks for correct decoding. Only 4 rows so no need for .head() .tail() or .sample() Analysis starts in next  notebook"
   ]
  },
  {
   "cell_type": "code",
   "execution_count": null,
   "id": "9e23a431",
   "metadata": {},
   "outputs": [],
   "source": [
    "### 1.4 Close dataframes to free up memory. \n",
    "df = None\n",
    "dfw =None\n",
    "dft= None\n",
    "dfT= None"
   ]
  },
  {
   "cell_type": "markdown",
   "id": "aabde761",
   "metadata": {},
   "source": [
    "## Open 02_Prep_Notebook next"
   ]
  }
 ],
 "metadata": {
  "kernelspec": {
   "display_name": "Python 3 (ipykernel)",
   "language": "python",
   "name": "python3"
  },
  "language_info": {
   "codemirror_mode": {
    "name": "ipython",
    "version": 3
   },
   "file_extension": ".py",
   "mimetype": "text/x-python",
   "name": "python",
   "nbconvert_exporter": "python",
   "pygments_lexer": "ipython3",
   "version": "3.9.12"
  }
 },
 "nbformat": 4,
 "nbformat_minor": 5
}
